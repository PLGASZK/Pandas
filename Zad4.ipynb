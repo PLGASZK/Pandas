{
 "cells": [
  {
   "cell_type": "code",
   "execution_count": 2,
   "id": "8b6c9500-9632-4aad-9e86-95a4213a43ed",
   "metadata": {},
   "outputs": [],
   "source": [
    "import pandas as pd\n",
    "import numpy as np\n",
    "import matplotlib.pyplot as plt"
   ]
  },
  {
   "cell_type": "markdown",
   "id": "59dd64a1-0fdf-4f2a-811b-b52605c10489",
   "metadata": {},
   "source": [
    "Zad 4\n",
    "\n",
    "Which tarriff (Std or ToU) is preffered by consumers with high energy consumptios"
   ]
  },
  {
   "cell_type": "code",
   "execution_count": 3,
   "id": "dcd68026-dd09-4c75-aa4e-4982f7ed3c94",
   "metadata": {},
   "outputs": [],
   "source": [
    "houses = pd.read_csv(\"D:/Python_w_inz_ele/data/informations_households.csv\", skiprows=0, encoding='latin1', sep=';')\n",
    "daily = pd.read_csv(\"D:/Python_w_inz_ele/data/daily_energy_consumption_dataset.csv\", skiprows=0, encoding='latin1', sep=',')\n",
    "acorn = pd.read_csv(\"D:/Python_w_inz_ele/data/acorn_details.csv\", skiprows=0, encoding='latin1', sep=';')"
   ]
  },
  {
   "cell_type": "code",
   "execution_count": 27,
   "id": "8b7c2bd7-d822-4102-a9a6-df0abd274f11",
   "metadata": {},
   "outputs": [
    {
     "name": "stdout",
     "output_type": "stream",
     "text": [
      "energy_mean    6.92825\n",
      "dtype: float64\n",
      "energy_mean    0.21173\n",
      "dtype: float64\n"
     ]
    }
   ],
   "source": [
    "# ile energii to dużo\n",
    "mask1 = pd.DataFrame(daily['energy_mean'])\n",
    "maks = (mask1.max())\n",
    "srednie = (mask1.mean())\n",
    "print(maks)\n",
    "print(srednie)\n",
    "\n",
    "# duża ilośc energii jest już dla średniego wykorzystania energii == 2"
   ]
  },
  {
   "cell_type": "code",
   "execution_count": 51,
   "id": "ccae4b45-2ca4-495e-9826-750249c3282b",
   "metadata": {},
   "outputs": [
    {
     "data": {
      "text/html": [
       "<div>\n",
       "<style scoped>\n",
       "    .dataframe tbody tr th:only-of-type {\n",
       "        vertical-align: middle;\n",
       "    }\n",
       "\n",
       "    .dataframe tbody tr th {\n",
       "        vertical-align: top;\n",
       "    }\n",
       "\n",
       "    .dataframe thead th {\n",
       "        text-align: right;\n",
       "    }\n",
       "</style>\n",
       "<table border=\"1\" class=\"dataframe\">\n",
       "  <thead>\n",
       "    <tr style=\"text-align: right;\">\n",
       "      <th></th>\n",
       "      <th>energy_mean</th>\n",
       "    </tr>\n",
       "  </thead>\n",
       "  <tbody>\n",
       "    <tr>\n",
       "      <th>8163</th>\n",
       "      <td>2.077688</td>\n",
       "    </tr>\n",
       "    <tr>\n",
       "      <th>18344</th>\n",
       "      <td>3.002000</td>\n",
       "    </tr>\n",
       "    <tr>\n",
       "      <th>122536</th>\n",
       "      <td>3.880000</td>\n",
       "    </tr>\n",
       "    <tr>\n",
       "      <th>122576</th>\n",
       "      <td>4.004000</td>\n",
       "    </tr>\n",
       "    <tr>\n",
       "      <th>123298</th>\n",
       "      <td>3.117000</td>\n",
       "    </tr>\n",
       "    <tr>\n",
       "      <th>...</th>\n",
       "      <td>...</td>\n",
       "    </tr>\n",
       "    <tr>\n",
       "      <th>3496879</th>\n",
       "      <td>2.780813</td>\n",
       "    </tr>\n",
       "    <tr>\n",
       "      <th>3496896</th>\n",
       "      <td>2.176333</td>\n",
       "    </tr>\n",
       "    <tr>\n",
       "      <th>3496897</th>\n",
       "      <td>2.252604</td>\n",
       "    </tr>\n",
       "    <tr>\n",
       "      <th>3496907</th>\n",
       "      <td>2.130521</td>\n",
       "    </tr>\n",
       "    <tr>\n",
       "      <th>3497200</th>\n",
       "      <td>2.104938</td>\n",
       "    </tr>\n",
       "  </tbody>\n",
       "</table>\n",
       "<p>2449 rows × 1 columns</p>\n",
       "</div>"
      ],
      "text/plain": [
       "         energy_mean\n",
       "8163        2.077688\n",
       "18344       3.002000\n",
       "122536      3.880000\n",
       "122576      4.004000\n",
       "123298      3.117000\n",
       "...              ...\n",
       "3496879     2.780813\n",
       "3496896     2.176333\n",
       "3496897     2.252604\n",
       "3496907     2.130521\n",
       "3497200     2.104938\n",
       "\n",
       "[2449 rows x 1 columns]"
      ]
     },
     "execution_count": 52,
     "metadata": {},
     "output_type": "execute_result"
    }
   ],
   "source": [
    "# dla osób które wykorzystują więcje niż 2 energii jaka taryfa przypada\n",
    "mask2 = mask1.loc[daily.energy_mean >= 2] #pomiary mogą się powtarzać w różnych dniach dla poszczególnych osób\n",
    "print(mask2)\n",
    "print(len(mask2))\n",
    "\n",
    "mask3 = np.array(mask2)\n",
    "mask3\n",
    "# grupowanie = pd.merge(left = mask3,right = houses, how = 'inner',on='LCLid')['LCLid']\n",
    "# grupowanie"
   ]
  }
 ],
 "metadata": {
  "kernelspec": {
   "display_name": "Python 3 (ipykernel)",
   "language": "python",
   "name": "python3"
  },
  "language_info": {
   "codemirror_mode": {
    "name": "ipython",
    "version": 3
   },
   "file_extension": ".py",
   "mimetype": "text/x-python",
   "name": "python",
   "nbconvert_exporter": "python",
   "pygments_lexer": "ipython3",
   "version": "3.9.12"
  }
 },
 "nbformat": 4,
 "nbformat_minor": 5
}
