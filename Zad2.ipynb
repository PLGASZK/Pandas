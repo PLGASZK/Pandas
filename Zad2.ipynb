{
 "cells": [
  {
   "cell_type": "code",
   "execution_count": 2,
   "id": "03460af1-f533-4d04-9c30-21ad8ea77620",
   "metadata": {},
   "outputs": [],
   "source": [
    "import pandas as pd\n",
    "import numpy as np\n",
    "import matplotlib.pyplot as plt"
   ]
  },
  {
   "cell_type": "markdown",
   "id": "51353d87-1121-432c-b8af-4306e814ad97",
   "metadata": {},
   "source": [
    "ZAD 2\n",
    "\n",
    "Which population statistically:\n",
    "\n",
    "a)consumes more electrical energy"
   ]
  },
  {
   "cell_type": "code",
   "execution_count": 24,
   "id": "f438aa9b-0617-4670-a495-932860af6782",
   "metadata": {},
   "outputs": [],
   "source": [
    "# ZAD 2\n",
    "houses = pd.read_csv(\"D:/Python_w_inz_ele/data/informations_households.csv\", skiprows=0, encoding='latin1', sep=';')\n",
    "daily = pd.read_csv(\"D:/Python_w_inz_ele/data/daily_energy_consumption_dataset.csv\", skiprows=0, encoding='latin1', sep=',')\n",
    "acorn = pd.read_csv(\"D:/Python_w_inz_ele/data/acorn_details.csv\", skiprows=0, encoding='latin1', sep=';')\n"
   ]
  },
  {
   "cell_type": "code",
   "execution_count": 11,
   "id": "29e642f9-6068-437e-a8f6-052c27c77189",
   "metadata": {},
   "outputs": [
    {
     "data": {
      "text/plain": [
       "0    ACORN-P\n",
       "1    ACORN-P\n",
       "2    ACORN-K\n",
       "3    ACORN-D\n",
       "4    ACORN-D\n",
       "5    ACORN-F\n",
       "6    ACORN-I\n",
       "7    ACORN-I\n",
       "dtype: object"
      ]
     },
     "execution_count": 11,
     "metadata": {},
     "output_type": "execute_result"
    }
   ],
   "source": [
    "#maski ograniczajace acord do istotnych kategorii\n",
    "mask1 = acorn[\"MAIN CATEGORIES\"] == \"POPULATION\" \n",
    "fin = acorn[mask1]\n",
    "columny = fin.columns[3:]\n",
    "#zbieramy calą populację jako grupę która redukuje ilość zużytej energii elektrycznej tak żeby poznać kto tego nie robi\n",
    "\n",
    "fin=fin.reset_index(drop = True)\n",
    "odp = fin[columny].transpose().idxmax()\n",
    "\n",
    "#w którym acornie jest najwięcej osób reprezentowanych przez konkretną populację wiekowo\n",
    "acorn_populacja = odp.iloc[0: 8]\n",
    "acorn_populacja\n",
    "\n"
   ]
  },
  {
   "cell_type": "code",
   "execution_count": 9,
   "id": "1c13b5fe-d5be-4354-8e04-7559a2e4494e",
   "metadata": {},
   "outputs": [
    {
     "data": {
      "text/html": [
       "<div>\n",
       "<style scoped>\n",
       "    .dataframe tbody tr th:only-of-type {\n",
       "        vertical-align: middle;\n",
       "    }\n",
       "\n",
       "    .dataframe tbody tr th {\n",
       "        vertical-align: top;\n",
       "    }\n",
       "\n",
       "    .dataframe thead th {\n",
       "        text-align: right;\n",
       "    }\n",
       "</style>\n",
       "<table border=\"1\" class=\"dataframe\">\n",
       "  <thead>\n",
       "    <tr style=\"text-align: right;\">\n",
       "      <th></th>\n",
       "      <th>MAIN CATEGORIES</th>\n",
       "      <th>CATEGORIES</th>\n",
       "      <th>REFERENCE</th>\n",
       "      <th>ACORN-A</th>\n",
       "      <th>ACORN-B</th>\n",
       "      <th>ACORN-C</th>\n",
       "      <th>ACORN-D</th>\n",
       "      <th>ACORN-E</th>\n",
       "      <th>ACORN-F</th>\n",
       "      <th>ACORN-G</th>\n",
       "      <th>ACORN-H</th>\n",
       "      <th>ACORN-I</th>\n",
       "      <th>ACORN-J</th>\n",
       "      <th>ACORN-K</th>\n",
       "      <th>ACORN-L</th>\n",
       "      <th>ACORN-M</th>\n",
       "      <th>ACORN-N</th>\n",
       "      <th>ACORN-O</th>\n",
       "      <th>ACORN-P</th>\n",
       "      <th>ACORN-Q</th>\n",
       "    </tr>\n",
       "  </thead>\n",
       "  <tbody>\n",
       "    <tr>\n",
       "      <th>0</th>\n",
       "      <td>POPULATION</td>\n",
       "      <td>Age</td>\n",
       "      <td>Age 0-4</td>\n",
       "      <td>77.0</td>\n",
       "      <td>83.0</td>\n",
       "      <td>72.0</td>\n",
       "      <td>100.0</td>\n",
       "      <td>120.0</td>\n",
       "      <td>77.0</td>\n",
       "      <td>97.0</td>\n",
       "      <td>97.0</td>\n",
       "      <td>63.0</td>\n",
       "      <td>119.0</td>\n",
       "      <td>67.0</td>\n",
       "      <td>114.0</td>\n",
       "      <td>113.0</td>\n",
       "      <td>89.0</td>\n",
       "      <td>123.0</td>\n",
       "      <td>138.0</td>\n",
       "      <td>133.0</td>\n",
       "    </tr>\n",
       "    <tr>\n",
       "      <th>1</th>\n",
       "      <td>POPULATION</td>\n",
       "      <td>Age</td>\n",
       "      <td>Age 5-17</td>\n",
       "      <td>117.0</td>\n",
       "      <td>109.0</td>\n",
       "      <td>87.0</td>\n",
       "      <td>69.0</td>\n",
       "      <td>94.0</td>\n",
       "      <td>95.0</td>\n",
       "      <td>102.0</td>\n",
       "      <td>106.0</td>\n",
       "      <td>67.0</td>\n",
       "      <td>95.0</td>\n",
       "      <td>64.0</td>\n",
       "      <td>108.0</td>\n",
       "      <td>116.0</td>\n",
       "      <td>86.0</td>\n",
       "      <td>89.0</td>\n",
       "      <td>136.0</td>\n",
       "      <td>106.0</td>\n",
       "    </tr>\n",
       "    <tr>\n",
       "      <th>2</th>\n",
       "      <td>POPULATION</td>\n",
       "      <td>Age</td>\n",
       "      <td>Age 18-24</td>\n",
       "      <td>64.0</td>\n",
       "      <td>73.0</td>\n",
       "      <td>67.0</td>\n",
       "      <td>107.0</td>\n",
       "      <td>100.0</td>\n",
       "      <td>71.0</td>\n",
       "      <td>83.0</td>\n",
       "      <td>89.0</td>\n",
       "      <td>62.0</td>\n",
       "      <td>104.0</td>\n",
       "      <td>459.0</td>\n",
       "      <td>97.0</td>\n",
       "      <td>96.0</td>\n",
       "      <td>86.0</td>\n",
       "      <td>117.0</td>\n",
       "      <td>109.0</td>\n",
       "      <td>110.0</td>\n",
       "    </tr>\n",
       "    <tr>\n",
       "      <th>3</th>\n",
       "      <td>POPULATION</td>\n",
       "      <td>Age</td>\n",
       "      <td>Age 25-34</td>\n",
       "      <td>52.0</td>\n",
       "      <td>63.0</td>\n",
       "      <td>62.0</td>\n",
       "      <td>197.0</td>\n",
       "      <td>151.0</td>\n",
       "      <td>66.0</td>\n",
       "      <td>90.0</td>\n",
       "      <td>88.0</td>\n",
       "      <td>63.0</td>\n",
       "      <td>132.0</td>\n",
       "      <td>145.0</td>\n",
       "      <td>109.0</td>\n",
       "      <td>96.0</td>\n",
       "      <td>90.0</td>\n",
       "      <td>140.0</td>\n",
       "      <td>120.0</td>\n",
       "      <td>120.0</td>\n",
       "    </tr>\n",
       "    <tr>\n",
       "      <th>4</th>\n",
       "      <td>POPULATION</td>\n",
       "      <td>Age</td>\n",
       "      <td>Age 35-49</td>\n",
       "      <td>102.0</td>\n",
       "      <td>105.0</td>\n",
       "      <td>91.0</td>\n",
       "      <td>124.0</td>\n",
       "      <td>118.0</td>\n",
       "      <td>93.0</td>\n",
       "      <td>102.0</td>\n",
       "      <td>103.0</td>\n",
       "      <td>76.0</td>\n",
       "      <td>111.0</td>\n",
       "      <td>67.0</td>\n",
       "      <td>99.0</td>\n",
       "      <td>98.0</td>\n",
       "      <td>90.0</td>\n",
       "      <td>102.0</td>\n",
       "      <td>103.0</td>\n",
       "      <td>100.0</td>\n",
       "    </tr>\n",
       "    <tr>\n",
       "      <th>5</th>\n",
       "      <td>POPULATION</td>\n",
       "      <td>Age</td>\n",
       "      <td>Age 50-64</td>\n",
       "      <td>124.0</td>\n",
       "      <td>121.0</td>\n",
       "      <td>120.0</td>\n",
       "      <td>72.0</td>\n",
       "      <td>82.0</td>\n",
       "      <td>126.0</td>\n",
       "      <td>109.0</td>\n",
       "      <td>107.0</td>\n",
       "      <td>112.0</td>\n",
       "      <td>90.0</td>\n",
       "      <td>41.0</td>\n",
       "      <td>95.0</td>\n",
       "      <td>96.0</td>\n",
       "      <td>103.0</td>\n",
       "      <td>89.0</td>\n",
       "      <td>78.0</td>\n",
       "      <td>89.0</td>\n",
       "    </tr>\n",
       "    <tr>\n",
       "      <th>6</th>\n",
       "      <td>POPULATION</td>\n",
       "      <td>Age</td>\n",
       "      <td>Aged 65-74</td>\n",
       "      <td>125.0</td>\n",
       "      <td>120.0</td>\n",
       "      <td>152.0</td>\n",
       "      <td>55.0</td>\n",
       "      <td>61.0</td>\n",
       "      <td>144.0</td>\n",
       "      <td>108.0</td>\n",
       "      <td>104.0</td>\n",
       "      <td>182.0</td>\n",
       "      <td>72.0</td>\n",
       "      <td>29.0</td>\n",
       "      <td>91.0</td>\n",
       "      <td>93.0</td>\n",
       "      <td>125.0</td>\n",
       "      <td>73.0</td>\n",
       "      <td>59.0</td>\n",
       "      <td>76.0</td>\n",
       "    </tr>\n",
       "    <tr>\n",
       "      <th>7</th>\n",
       "      <td>POPULATION</td>\n",
       "      <td>Age</td>\n",
       "      <td>Aged 75 plus</td>\n",
       "      <td>112.0</td>\n",
       "      <td>103.0</td>\n",
       "      <td>157.0</td>\n",
       "      <td>49.0</td>\n",
       "      <td>57.0</td>\n",
       "      <td>117.0</td>\n",
       "      <td>98.0</td>\n",
       "      <td>96.0</td>\n",
       "      <td>220.0</td>\n",
       "      <td>66.0</td>\n",
       "      <td>32.0</td>\n",
       "      <td>87.0</td>\n",
       "      <td>96.0</td>\n",
       "      <td>152.0</td>\n",
       "      <td>72.0</td>\n",
       "      <td>56.0</td>\n",
       "      <td>76.0</td>\n",
       "    </tr>\n",
       "  </tbody>\n",
       "</table>\n",
       "</div>"
      ],
      "text/plain": [
       "  MAIN CATEGORIES CATEGORIES     REFERENCE  ACORN-A  ACORN-B  ACORN-C  \\\n",
       "0      POPULATION        Age       Age 0-4     77.0     83.0     72.0   \n",
       "1      POPULATION        Age      Age 5-17    117.0    109.0     87.0   \n",
       "2      POPULATION        Age     Age 18-24     64.0     73.0     67.0   \n",
       "3      POPULATION        Age     Age 25-34     52.0     63.0     62.0   \n",
       "4      POPULATION        Age     Age 35-49    102.0    105.0     91.0   \n",
       "5      POPULATION        Age     Age 50-64    124.0    121.0    120.0   \n",
       "6      POPULATION        Age    Aged 65-74    125.0    120.0    152.0   \n",
       "7      POPULATION        Age  Aged 75 plus    112.0    103.0    157.0   \n",
       "\n",
       "   ACORN-D  ACORN-E  ACORN-F  ACORN-G  ACORN-H  ACORN-I  ACORN-J  ACORN-K  \\\n",
       "0    100.0    120.0     77.0     97.0     97.0     63.0    119.0     67.0   \n",
       "1     69.0     94.0     95.0    102.0    106.0     67.0     95.0     64.0   \n",
       "2    107.0    100.0     71.0     83.0     89.0     62.0    104.0    459.0   \n",
       "3    197.0    151.0     66.0     90.0     88.0     63.0    132.0    145.0   \n",
       "4    124.0    118.0     93.0    102.0    103.0     76.0    111.0     67.0   \n",
       "5     72.0     82.0    126.0    109.0    107.0    112.0     90.0     41.0   \n",
       "6     55.0     61.0    144.0    108.0    104.0    182.0     72.0     29.0   \n",
       "7     49.0     57.0    117.0     98.0     96.0    220.0     66.0     32.0   \n",
       "\n",
       "   ACORN-L  ACORN-M  ACORN-N  ACORN-O  ACORN-P  ACORN-Q  \n",
       "0    114.0    113.0     89.0    123.0    138.0    133.0  \n",
       "1    108.0    116.0     86.0     89.0    136.0    106.0  \n",
       "2     97.0     96.0     86.0    117.0    109.0    110.0  \n",
       "3    109.0     96.0     90.0    140.0    120.0    120.0  \n",
       "4     99.0     98.0     90.0    102.0    103.0    100.0  \n",
       "5     95.0     96.0    103.0     89.0     78.0     89.0  \n",
       "6     91.0     93.0    125.0     73.0     59.0     76.0  \n",
       "7     87.0     96.0    152.0     72.0     56.0     76.0  "
      ]
     },
     "execution_count": 9,
     "metadata": {},
     "output_type": "execute_result"
    }
   ],
   "source": [
    "fin[0:8]"
   ]
  },
  {
   "cell_type": "markdown",
   "id": "96f56541-01c0-4d9e-b7e9-89b5605c099e",
   "metadata": {},
   "source": [
    "Znajdujemy house ktore naleza do zidentyfikowanych acorn i laczymy je z danymi srednimi poboru energii"
   ]
  },
  {
   "cell_type": "code",
   "execution_count": 15,
   "id": "436c4243-0320-4919-9392-a2f387314e71",
   "metadata": {},
   "outputs": [
    {
     "name": "stdout",
     "output_type": "stream",
     "text": [
      "Ilosc 1:  5566 0.1387811938204147\n",
      "Ilosc 2:  5566 0.2092637443267434\n",
      "Ilosc 3:  5566 0.2838815010313994\n",
      "Ilosc 4:  5566 0.1921971820369726\n",
      "Ilosc 5:  5566 0.1973362082302307\n"
     ]
    }
   ],
   "source": [
    "mask_pop1 = houses['Acorn'] == 'ACORN-P'\n",
    "mask_pop2 = houses['Acorn'] == 'ACORN-K'\n",
    "mask_pop3 = houses['Acorn'] == 'ACORN-D'\n",
    "mask_pop4 = houses['Acorn'] == 'ACORN-F'\n",
    "mask_pop5 = houses['Acorn'] == 'ACORN-I'\n",
    "\n",
    "mask1 = houses[mask_pop1]\n",
    "mask2 = houses[mask_pop2]\n",
    "mask3 = houses[mask_pop3]\n",
    "mask4 = houses[mask_pop4]\n",
    "mask5 = houses[mask_pop5]\n",
    "\n",
    "\n",
    "mask_pop1_mean = pd.merge(left = mask1,right = daily, how = 'inner',on='LCLid')['energy_mean']\n",
    "mask_pop2_mean = pd.merge(left = mask2,right = daily, how = 'inner',on='LCLid')['energy_mean']\n",
    "mask_pop3_mean = pd.merge(left = mask3,right = daily, how = 'inner',on='LCLid')['energy_mean']\n",
    "mask_pop4_mean = pd.merge(left = mask4,right = daily, how = 'inner',on='LCLid')['energy_mean']\n",
    "mask_pop5_mean = pd.merge(left = mask5,right = daily, how = 'inner',on='LCLid')['energy_mean']\n",
    "\n",
    "print('Ilosc 1: ', len(mask_pop1), mask_pop1_mean.mean())\n",
    "print('Ilosc 2: ', len(mask_pop2), mask_pop2_mean.mean())\n",
    "print('Ilosc 3: ', len(mask_pop3), mask_pop3_mean.mean())\n",
    "print('Ilosc 4: ', len(mask_pop4), mask_pop4_mean.mean())\n",
    "print('Ilosc 5: ', len(mask_pop5), mask_pop5_mean.mean())"
   ]
  },
  {
   "cell_type": "markdown",
   "id": "f5bb35a3-5052-460a-a943-1b8a23292f2d",
   "metadata": {},
   "source": [
    "NA podstawie powyższych wyników stwierdzamy,że grupa należąca do acorn-d zużywa najwięcej energii. Ta grupa należy do przedziału wiekowego 25-49 lat. "
   ]
  },
  {
   "cell_type": "code",
   "execution_count": 23,
   "id": "91064d99-3706-44d3-b0f6-a1ad6427ed13",
   "metadata": {},
   "outputs": [
    {
     "data": {
      "text/plain": [
       "[<matplotlib.lines.Line2D at 0x29b8762c4c0>]"
      ]
     },
     "execution_count": 23,
     "metadata": {},
     "output_type": "execute_result"
    },
    {
     "data": {
      "image/png": "[encoded data removed]",
      "text/plain": [
       "<Figure size 432x288 with 1 Axes>"
      ]
     },
     "metadata": {
      "needs_background": "light"
     },
     "output_type": "display_data"
    }
   ],
   "source": [
    "\n",
    "plt.plot(range(len(mask_pop1_mean)),mask_pop1_mean)"
   ]
  },
  {
   "cell_type": "code",
   "execution_count": 6,
   "id": "a8b9954c-39ec-4804-aab7-c26e636638f7",
   "metadata": {},
   "outputs": [
    {
     "data": {
      "text/plain": [
       "[<matplotlib.lines.Line2D at 0x2368c059820>]"
      ]
     },
     "execution_count": 6,
     "metadata": {},
     "output_type": "execute_result"
    },
    {
     "data": {
      "image/png": "[encoded data removed]",
      "text/plain": [
       "<Figure size 432x288 with 1 Axes>"
      ]
     },
     "metadata": {
      "needs_background": "light"
     },
     "output_type": "display_data"
    }
   ],
   "source": [
    "plt.plot(range(len(mask_pop1)),mask_pop1)\n",
    "plt.plot(range(len(mask_pop2)),mask_pop2)\n",
    "plt.plot(range(len(mask_pop3)),mask_pop3)\n",
    "plt.plot(range(len(mask_pop4)),mask_pop4)\n",
    "plt.plot(range(len(mask_pop5)),mask_pop5)"
   ]
  },
  {
   "cell_type": "markdown",
   "id": "e30a6649-9a59-4914-adf1-d5ac59450b10",
   "metadata": {},
   "source": [
    "Which population statistically\n",
    "\n",
    "b) seems to use more electrical heating in winter"
   ]
  },
  {
   "cell_type": "code",
   "execution_count": 51,
   "id": "eaebc0df",
   "metadata": {},
   "outputs": [],
   "source": [
    "mask2 = acorn[\"REFERENCE\"] == \"Rarely leave the heating on when out for a few hours\" \n",
    "fin2 = acorn[mask2]\n",
    "columny2 = fin2.columns[3:]\n",
    "#zbieramy calą populację jako grupę która redukuje ilość zużytej energii elektrycznej tak żeby poznać kto tego nie robi\n",
    "\n",
    "fin2=fin2.reset_index(drop = True)\n",
    "odp_max = fin2[columny].transpose().idxmax()\n",
    "odp_min = fin2[columny].transpose().idxmin()\n",
    "\n",
    "\n"
   ]
  },
  {
   "cell_type": "code",
   "execution_count": 52,
   "id": "3464417c-a505-48b1-9838-0767a63f4574",
   "metadata": {},
   "outputs": [
    {
     "data": {
      "text/plain": [
       "'ACORN-A'"
      ]
     },
     "execution_count": 52,
     "metadata": {},
     "output_type": "execute_result"
    }
   ],
   "source": [
    "str(odp_min[0])"
   ]
  },
  {
   "cell_type": "code",
   "execution_count": 31,
   "id": "81cf62c5-0861-41e0-9c3b-f0238e897add",
   "metadata": {},
   "outputs": [
    {
     "name": "stdout",
     "output_type": "stream",
     "text": [
      "0.179033076550184\n"
     ]
    }
   ],
   "source": [
    "mask_acorn =  houses['Acorn'] == 'ACORN-O'\n",
    "\n",
    "mask_b = houses[mask_acorn]\n",
    "\n",
    "mask_b_mean = pd.merge(left = mask_b,right = daily, how = 'inner',on='LCLid')['energy_mean']\n",
    "print(mask_b_mean.mean())"
   ]
  },
  {
   "cell_type": "code",
   "execution_count": 60,
   "id": "431c5a2d-2134-4029-a5fb-f9ce18fb25d6",
   "metadata": {},
   "outputs": [
    {
     "data": {
      "text/html": [
       "<div>\n",
       "<style scoped>\n",
       "    .dataframe tbody tr th:only-of-type {\n",
       "        vertical-align: middle;\n",
       "    }\n",
       "\n",
       "    .dataframe tbody tr th {\n",
       "        vertical-align: top;\n",
       "    }\n",
       "\n",
       "    .dataframe thead th {\n",
       "        text-align: right;\n",
       "    }\n",
       "</style>\n",
       "<table border=\"1\" class=\"dataframe\">\n",
       "  <thead>\n",
       "    <tr style=\"text-align: right;\">\n",
       "      <th></th>\n",
       "      <th>REFERENCE</th>\n",
       "      <th>ACORN-O</th>\n",
       "    </tr>\n",
       "  </thead>\n",
       "  <tbody>\n",
       "    <tr>\n",
       "      <th>12</th>\n",
       "      <td>White</td>\n",
       "      <td>100.0</td>\n",
       "    </tr>\n",
       "    <tr>\n",
       "      <th>13</th>\n",
       "      <td>Mixed</td>\n",
       "      <td>104.0</td>\n",
       "    </tr>\n",
       "    <tr>\n",
       "      <th>14</th>\n",
       "      <td>Asian</td>\n",
       "      <td>102.0</td>\n",
       "    </tr>\n",
       "    <tr>\n",
       "      <th>15</th>\n",
       "      <td>Black</td>\n",
       "      <td>85.0</td>\n",
       "    </tr>\n",
       "    <tr>\n",
       "      <th>16</th>\n",
       "      <td>Other ethnicity</td>\n",
       "      <td>99.0</td>\n",
       "    </tr>\n",
       "  </tbody>\n",
       "</table>\n",
       "</div>"
      ],
      "text/plain": [
       "          REFERENCE  ACORN-O\n",
       "12            White    100.0\n",
       "13            Mixed    104.0\n",
       "14            Asian    102.0\n",
       "15            Black     85.0\n",
       "16  Other ethnicity     99.0"
      ]
     },
     "execution_count": 60,
     "metadata": {},
     "output_type": "execute_result"
    }
   ],
   "source": [
    "\n",
    "fin[12:17][['REFERENCE',str(odp_max[0])]]"
   ]
  },
  {
   "cell_type": "code",
   "execution_count": 59,
   "id": "6bcb7ce5-8bc9-4074-908a-457de78263b7",
   "metadata": {},
   "outputs": [
    {
     "data": {
      "text/html": [
       "<div>\n",
       "<style scoped>\n",
       "    .dataframe tbody tr th:only-of-type {\n",
       "        vertical-align: middle;\n",
       "    }\n",
       "\n",
       "    .dataframe tbody tr th {\n",
       "        vertical-align: top;\n",
       "    }\n",
       "\n",
       "    .dataframe thead th {\n",
       "        text-align: right;\n",
       "    }\n",
       "</style>\n",
       "<table border=\"1\" class=\"dataframe\">\n",
       "  <thead>\n",
       "    <tr style=\"text-align: right;\">\n",
       "      <th></th>\n",
       "      <th>REFERENCE</th>\n",
       "      <th>ACORN-A</th>\n",
       "    </tr>\n",
       "  </thead>\n",
       "  <tbody>\n",
       "    <tr>\n",
       "      <th>12</th>\n",
       "      <td>White</td>\n",
       "      <td>98.0</td>\n",
       "    </tr>\n",
       "    <tr>\n",
       "      <th>13</th>\n",
       "      <td>Mixed</td>\n",
       "      <td>117.0</td>\n",
       "    </tr>\n",
       "    <tr>\n",
       "      <th>14</th>\n",
       "      <td>Asian</td>\n",
       "      <td>107.0</td>\n",
       "    </tr>\n",
       "    <tr>\n",
       "      <th>15</th>\n",
       "      <td>Black</td>\n",
       "      <td>48.0</td>\n",
       "    </tr>\n",
       "    <tr>\n",
       "      <th>16</th>\n",
       "      <td>Other ethnicity</td>\n",
       "      <td>174.0</td>\n",
       "    </tr>\n",
       "  </tbody>\n",
       "</table>\n",
       "</div>"
      ],
      "text/plain": [
       "          REFERENCE  ACORN-A\n",
       "12            White     98.0\n",
       "13            Mixed    117.0\n",
       "14            Asian    107.0\n",
       "15            Black     48.0\n",
       "16  Other ethnicity    174.0"
      ]
     },
     "execution_count": 59,
     "metadata": {},
     "output_type": "execute_result"
    }
   ],
   "source": [
    "fin[12:17][['REFERENCE',str(odp_min[0])]]"
   ]
  },
  {
   "cell_type": "markdown",
   "id": "019245b7-bc7d-49ce-a00a-5a28775693a2",
   "metadata": {},
   "source": []
  }
 ],
 "metadata": {
  "kernelspec": {
   "display_name": "Python 3 (ipykernel)",
   "language": "python",
   "name": "python3"
  },
  "language_info": {
   "codemirror_mode": {
    "name": "ipython",
    "version": 3
   },
   "file_extension": ".py",
   "mimetype": "text/x-python",
   "name": "python",
   "nbconvert_exporter": "python",
   "pygments_lexer": "ipython3",
   "version": "3.9.12"
  }
 },
 "nbformat": 4,
 "nbformat_minor": 5
}
